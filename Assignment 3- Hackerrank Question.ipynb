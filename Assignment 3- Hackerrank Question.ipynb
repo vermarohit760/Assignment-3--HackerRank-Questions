{
 "cells": [
  {
   "cell_type": "code",
   "execution_count": null,
   "id": "80875593",
   "metadata": {},
   "outputs": [],
   "source": [
    "from itertools import combinations\n",
    "\n",
    "S = input().split(' ')\n",
    "\n",
    "for i in range(1,int(S[1])+1):\n",
    "    for k in combinations (sorted(S[0]),i):\n",
    "        print(''.join(k))\n"
   ]
  },
  {
   "cell_type": "code",
   "execution_count": null,
   "id": "32846e89",
   "metadata": {},
   "outputs": [],
   "source": [
    "from itertools import product\n",
    "\n",
    "a = map(int, input().split())\n",
    "b = map(int, input().split())\n",
    "\n",
    "print(*product(a, b))"
   ]
  },
  {
   "cell_type": "code",
   "execution_count": null,
   "id": "61487cb7",
   "metadata": {},
   "outputs": [],
   "source": [
    "from itertools import permutations\n",
    "\n",
    "S = input().split(\" \")\n",
    "permutations = list(permutations(S[0], int(S[1])))\n",
    "permutations.sort()\n",
    "\n",
    "for i in permutations:\n",
    "    print(\"\".join(i))"
   ]
  }
 ],
 "metadata": {
  "kernelspec": {
   "display_name": "Python 3 (ipykernel)",
   "language": "python",
   "name": "python3"
  },
  "language_info": {
   "codemirror_mode": {
    "name": "ipython",
    "version": 3
   },
   "file_extension": ".py",
   "mimetype": "text/x-python",
   "name": "python",
   "nbconvert_exporter": "python",
   "pygments_lexer": "ipython3",
   "version": "3.9.6"
  }
 },
 "nbformat": 4,
 "nbformat_minor": 5
}
